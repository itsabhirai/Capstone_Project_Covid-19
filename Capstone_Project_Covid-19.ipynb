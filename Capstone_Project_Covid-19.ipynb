{
 "cells": [
  {
   "cell_type": "markdown",
   "id": "66c632db-0bd0-43ac-a9d2-f3fd49e3b23b",
   "metadata": {},
   "source": [
    "# Capstone Project Covid-19"
   ]
  },
  {
   "cell_type": "markdown",
   "id": "748670ca-cecf-48e4-aebc-346d304f975e",
   "metadata": {},
   "source": [
    "## Problem Statement:\n",
    "Given data about COVID-19 patients, write code to visualize the impact and\n",
    "analyze the trend of rate of infection and recovery as well as make predictions\n",
    "about the number of cases expected a week in future based on the current\n",
    "trends.\n",
    "\n",
    "## Dataset:\n",
    "CSV and Excel files containing data about the number of COVID-19 confirmed\n",
    "deaths and recovered patients both around the world and in India. Download Link\n",
    "\n",
    "## Guidelines:\n",
    "\n",
    "● Use pandas to accumulate data from multiple data files.\n",
    "\n",
    "● Use plotly (visualization library) to create interactive visualizations.\n",
    "\n",
    "● Use Facebook prophet library to make time series models.\n",
    "\n",
    "● Visualize the prediction by combining these technologies."
   ]
  },
  {
   "cell_type": "code",
   "execution_count": null,
   "id": "ec44d9b7-764f-4748-b203-e0139c80d57f",
   "metadata": {},
   "outputs": [],
   "source": [
    "# I am going to perform time series forecasting using various models, \n",
    "# such as AR, MA, ARIMA, SARIMAX, and others. \n",
    "# However, in this case, I will focus on using the Facebook Prophet model."
   ]
  },
  {
   "cell_type": "code",
   "execution_count": null,
   "id": "274d6457-532e-4f2e-9879-7f212ca231fe",
   "metadata": {},
   "outputs": [],
   "source": [
    "import pandas as pd\n",
    "import numpy as np\n",
    "import matplotlib.pyplot as plt\n",
    "import seaborn as sns\n",
    "import plotly.express as px\n",
    "import plotly.graph_objects as go\n",
    "from sklearn.linear_model import LinearRegression\n",
    "from datetime import timedelta\n",
    "from prophet import Prophet\n",
    "\n",
    "import warnings\n",
    "warnings.filterwarnings(\"ignore\")"
   ]
  },
  {
   "cell_type": "code",
   "execution_count": null,
   "id": "cb3482c5-64f7-4426-aefe-5b3fa0a25f5c",
   "metadata": {},
   "outputs": [],
   "source": [
    "df = pd.read_csv(r\"C:\\Users\\ABHI RAI\\Desktop\\Project_30_Dec\\Capstone Project (Covid 19)\\covid_19_clean_complete.csv\")\n",
    "df.head()"
   ]
  },
  {
   "cell_type": "code",
   "execution_count": null,
   "id": "09cabd1a-8e37-437a-b528-de69941f5f4c",
   "metadata": {},
   "outputs": [],
   "source": [
    "df.shape"
   ]
  },
  {
   "cell_type": "code",
   "execution_count": null,
   "id": "be815e6d-5239-493a-8f25-cfc6421f7180",
   "metadata": {},
   "outputs": [],
   "source": [
    "#Renaming the columns\n",
    "df.rename(columns={\"Date\":\"date\",\n",
    "                   \"Province/State\":\"state\",\n",
    "                   \"Country/Region\":\"country\",\n",
    "                   \"Lat\":\"lat\",\"Long\":\"long\",\n",
    "                   \"Confirmed\":\"confirmed\",\n",
    "                   \"Deaths\":\"deaths\",\n",
    "                   \"Recovered\":\"recovered\",\n",
    "                   \"WHO Region\":\"who\",\n",
    "                   \"Active\":\"active\"\n",
    "                   },inplace = True)"
   ]
  },
  {
   "cell_type": "code",
   "execution_count": null,
   "id": "166ba28a-769f-4136-8606-6c6530f6f9ef",
   "metadata": {},
   "outputs": [],
   "source": [
    "df.head()"
   ]
  },
  {
   "cell_type": "code",
   "execution_count": null,
   "id": "85fc1d5e-efbb-4702-814c-dc533028a9bd",
   "metadata": {},
   "outputs": [],
   "source": [
    "df[\"date\"].max()"
   ]
  },
  {
   "cell_type": "code",
   "execution_count": null,
   "id": "051f672e-1afa-4bba-8ad1-e60a1be30969",
   "metadata": {},
   "outputs": [],
   "source": [
    "#Records from the last date\n",
    "df[df[\"date\"] == df[\"date\"].max()]"
   ]
  },
  {
   "cell_type": "code",
   "execution_count": null,
   "id": "f336d248-6f8f-4e65-a829-d2050843f419",
   "metadata": {},
   "outputs": [],
   "source": [
    "top = df[df[\"date\"] == df[\"date\"].max()]"
   ]
  },
  {
   "cell_type": "code",
   "execution_count": null,
   "id": "493d5110-c550-416d-91d5-bbba321d8f81",
   "metadata": {},
   "outputs": [],
   "source": [
    "world = top.groupby(\"country\")[[\"confirmed\",\"active\",\"deaths\",\"recovered\"]].sum().reset_index()\n",
    "world.head()"
   ]
  },
  {
   "cell_type": "code",
   "execution_count": null,
   "id": "db1078b7-6dc1-426b-982c-67ee85988fb7",
   "metadata": {},
   "outputs": [],
   "source": [
    "#Total confirmed cases in all countries together \n",
    "total_cases = df.groupby(\"date\")[\"confirmed\"].sum().reset_index()\n",
    "total_cases.head()"
   ]
  },
  {
   "cell_type": "code",
   "execution_count": null,
   "id": "38fc0d59-5b32-49fc-b215-8696b8e621e4",
   "metadata": {},
   "outputs": [],
   "source": [
    "total_cases[\"date\"] = pd.to_datetime(total_cases[\"date\"])"
   ]
  },
  {
   "cell_type": "code",
   "execution_count": null,
   "id": "0c2cb729-0967-41e5-8444-c8c4e3341df9",
   "metadata": {},
   "outputs": [],
   "source": [
    "#Trend of covid\n",
    "\n",
    "plt.figure(figsize = (40,10))\n",
    "ax = sns.pointplot(x = total_cases.date.dt.date,y = total_cases.confirmed, color = \"r\")\n",
    "ax.set(xlabel= \"Dates\", ylabel = \"Total Cases\")\n",
    "\n",
    "plt.xticks(rotation = 90, fontsize = 10)\n",
    "plt.yticks(rotation = 90, fontsize = 15)\n",
    "\n",
    "plt.xlabel(\"Dates\", fontsize = 30)\n",
    "plt.ylabel(\"Total Cases\", fontsize = 30)"
   ]
  },
  {
   "cell_type": "code",
   "execution_count": null,
   "id": "666cb26e-9981-4e99-801e-fc1b78703920",
   "metadata": {},
   "outputs": [],
   "source": [
    "# Top 20 countries with highest number of actives cases for the latest data 27th july 2020\n",
    "\n",
    "top_actives = top.groupby(by=\"country\")[\"active\"].sum().sort_values(ascending=False).head(20).reset_index()\n",
    "top_actives"
   ]
  },
  {
   "cell_type": "code",
   "execution_count": null,
   "id": "d672ad63-cf31-4e2a-ac92-8de4e4f1334b",
   "metadata": {},
   "outputs": [],
   "source": [
    "plt.figure(figsize=(15,10))\n",
    "plt.xticks(fontsize=15)\n",
    "plt.yticks(fontsize=15)\n",
    "plt.xlabel(\"Total Cases\",fontsize=30)\n",
    "plt.ylabel(\"Country\",fontsize=30)\n",
    "plt.title(\"Top 20 Countries having most Active Cases\",fontsize=30)\n",
    "\n",
    "ax = sns.barplot(x=top_actives.active, y=top_actives.country)\n",
    "ax.set(xlabel=\"Total Cases\",ylabel=\"Country\")"
   ]
  },
  {
   "cell_type": "code",
   "execution_count": null,
   "id": "2e21e494-41c9-465b-98b4-f1771fe26c06",
   "metadata": {},
   "outputs": [],
   "source": [
    "# Top 20 countries with highest number of Death cases for the latest data 27th july 2020\n",
    "\n",
    "top_deaths = top.groupby(by=\"country\")[\"deaths\"].sum().sort_values(ascending=False).head(20).reset_index()\n",
    "top_deaths"
   ]
  },
  {
   "cell_type": "code",
   "execution_count": null,
   "id": "69e3c9dd-0f9b-4d39-aca9-3b92e3216bbd",
   "metadata": {},
   "outputs": [],
   "source": [
    "plt.figure(figsize=(15,10))\n",
    "plt.xticks(fontsize=15)\n",
    "plt.yticks(fontsize=15)\n",
    "plt.xlabel(\"Total Cases\",fontsize=30)\n",
    "plt.ylabel(\"Country\",fontsize=30)\n",
    "plt.title(\"Top 20 Countries having most Death Cases\",fontsize=30)\n",
    "ax = sns.barplot(x=top_deaths.deaths, y=top_deaths.country)\n",
    "ax.set(xlabel=\"Total Cases\",ylabel=\"Country\")"
   ]
  },
  {
   "cell_type": "code",
   "execution_count": null,
   "id": "8c9dde16-d360-4d3c-99e2-eb30a6c7cb56",
   "metadata": {},
   "outputs": [],
   "source": [
    "# Can also try with Recovered cases\n",
    "# Number of people recoverd \n",
    "recovery = top.groupby(by=\"country\")[\"recovered\"].sum().sort_values(ascending=False).head(20).reset_index()\n",
    "recovery"
   ]
  },
  {
   "cell_type": "code",
   "execution_count": null,
   "id": "61ef85f9-6cdc-4c5b-93b7-f839dbee15df",
   "metadata": {},
   "outputs": [],
   "source": [
    "plt.figure(figsize=(15,10))\n",
    "plt.xticks(fontsize=15)\n",
    "plt.yticks(fontsize=15)\n",
    "plt.xlabel(\"Total Cases\",fontsize=30)\n",
    "plt.ylabel(\"Country\",fontsize=30)\n",
    "plt.title(\"Top 20 Countries having most Recovered Cases\",fontsize=30)\n",
    "ax = sns.barplot(x=recovery.recovered, y=recovery.country)\n",
    "ax.set(xlabel=\"Total Cases\",ylabel=\"Country\")"
   ]
  },
  {
   "cell_type": "code",
   "execution_count": null,
   "id": "b75c95f9-0131-4538-8151-0c4468507758",
   "metadata": {},
   "outputs": [],
   "source": [
    "# US data\n",
    "us = df[df.country == \"US\"]\n",
    "us = us.groupby(by =\"date\")[[\"recovered\",\"deaths\",\"confirmed\",\"active\"]].sum().reset_index()\n",
    "us"
   ]
  },
  {
   "cell_type": "code",
   "execution_count": null,
   "id": "92ee6cc2-2c9a-48a1-94a5-7ea86162a8a0",
   "metadata": {},
   "outputs": [],
   "source": [
    "# # US data\n",
    "# us = df[df.country == \"US\"]\n",
    "# us = us.groupby(by =\"date\")[[\"recovered\",\"deaths\",\"confirmed\",\"active\"]].sum().reset_index()\n",
    "# us = us.iloc[33:].reset_index().drop(\"index\",axis=1)\n",
    "# us"
   ]
  },
  {
   "cell_type": "code",
   "execution_count": null,
   "id": "955ff0ff-9dc1-4ba4-b9a7-e128c639ce81",
   "metadata": {},
   "outputs": [],
   "source": [
    "# Brazil\n",
    "brazil = df[df.country == \"Brazil\"]\n",
    "brazil = brazil.groupby(by = \"date\")[[\"recovered\",\"deaths\",\"confirmed\",\"active\"]].sum().reset_index()\n",
    "brazil.head(50)"
   ]
  },
  {
   "cell_type": "code",
   "execution_count": null,
   "id": "2f86c62a-f7c6-45e9-b225-284b9f4d81a4",
   "metadata": {},
   "outputs": [],
   "source": [
    "# United kingdom\n",
    "uk = df[df.country == \"United Kingdom\"]\n",
    "uk = uk.groupby(by =\"date\")[[\"recovered\",\"deaths\",\"confirmed\",\"active\"]].sum().reset_index()\n",
    "uk"
   ]
  },
  {
   "cell_type": "code",
   "execution_count": null,
   "id": "0861ea99-2cb5-4b62-a3e0-7a404f23be3b",
   "metadata": {},
   "outputs": [],
   "source": [
    "# India\n",
    "\n",
    "india = df[df.country == \"India\"]\n",
    "india= india.groupby(by =\"date\")[[\"recovered\",\"deaths\",\"confirmed\",\"active\"]].sum().reset_index()\n",
    "india= india.iloc[9:].reset_index().drop(\"index\",axis=1)\n",
    "india"
   ]
  },
  {
   "cell_type": "code",
   "execution_count": null,
   "id": "96b04cad-96ad-46cc-a3a4-05ae18367a3b",
   "metadata": {},
   "outputs": [],
   "source": [
    "df[\"country\"].unique()"
   ]
  },
  {
   "cell_type": "code",
   "execution_count": null,
   "id": "a893ce2a-13d4-48a5-b959-5cff4226d383",
   "metadata": {},
   "outputs": [],
   "source": [
    "# China\n",
    "\n",
    "China = df[df.country == \"China\"]\n",
    "China= india.groupby(by =\"date\")[[\"recovered\",\"deaths\",\"confirmed\",\"active\"]].sum().reset_index()\n",
    "China"
   ]
  },
  {
   "cell_type": "code",
   "execution_count": null,
   "id": "bac63fec-3e88-45f7-af59-36d6f8c97872",
   "metadata": {},
   "outputs": [],
   "source": [
    "# Russia\n",
    "\n",
    "Russia=df[df.country=='Russia']\n",
    "Russia=Russia.groupby(by='date')[['recovered','deaths','confirmed','active']].sum().reset_index()\n",
    "Russia=Russia.iloc[10:].reset_index().drop('index',axis=1)\n",
    "Russia"
   ]
  },
  {
   "cell_type": "code",
   "execution_count": null,
   "id": "98b54f5a-05b6-4628-a7da-b298a3494a25",
   "metadata": {},
   "outputs": [],
   "source": [
    "# Confirmed Cases trend in top 5 Countries\n",
    "plt.figure(figsize=(40,10))\n",
    "plt.plot(brazil.index,brazil.confirmed,color=\"Blue\")\n",
    "plt.plot(us.index,us.confirmed,color=\"Pink\")\n",
    "plt.plot(Russia.index,Russia.confirmed,color=\"Green\")\n",
    "plt.plot(uk.index,uk.confirmed,color=\"black\")\n",
    "plt.plot(india.index,india.confirmed,color=\"Red\")\n",
    "plt.xlabel('No.of days',fontsize=20)\n",
    "plt.ylabel('Confirmed cases',fontsize=20)\n",
    "plt.title('Confirmed cases over time (Top 5 Countries)',fontsize=30)\n",
    "plt.show()"
   ]
  },
  {
   "cell_type": "markdown",
   "id": "e6a5ec76-122e-479a-8e9a-5b9da17dad7a",
   "metadata": {},
   "source": [
    "# The US has the highest number of confirmed cases, and it's experiencing the most rapid increase in new cases."
   ]
  },
  {
   "cell_type": "code",
   "execution_count": null,
   "id": "da96c302-7ca5-4624-a5d6-a0d0a3e80e58",
   "metadata": {},
   "outputs": [],
   "source": [
    "# Death cases trend in top 5 countries\n",
    "plt.figure(figsize=(40,10))\n",
    "plt.plot(brazil.index,brazil.confirmed,color=\"Blue\")\n",
    "plt.plot(us.index,us.confirmed,color=\"Pink\")\n",
    "plt.plot(Russia.index,Russia.confirmed,color=\"Green\")\n",
    "plt.plot(uk.index,uk.confirmed,color=\"black\")\n",
    "plt.plot(india.index,india.confirmed,color=\"Red\")\n",
    "plt.xlabel('No.of days',fontsize=20)\n",
    "plt.ylabel('Death cases',fontsize=20)\n",
    "plt.title('Deaths cases over time (Top 5 Countries)',fontsize=30)\n",
    "plt.show()"
   ]
  },
  {
   "cell_type": "code",
   "execution_count": null,
   "id": "d3903d98-ee42-457b-a584-100445cbc269",
   "metadata": {},
   "outputs": [],
   "source": [
    "# Active cases trend in top 5 countries\n",
    "plt.figure(figsize=(40,10))\n",
    "plt.plot(brazil.index,brazil.confirmed,color=\"Blue\")\n",
    "plt.plot(us.index,us.confirmed,color=\"Pink\")\n",
    "plt.plot(Russia.index,Russia.confirmed,color=\"Green\")\n",
    "plt.plot(uk.index,uk.confirmed,color=\"black\")\n",
    "plt.plot(india.index,india.confirmed,color=\"Red\")\n",
    "plt.xlabel('No.of days',fontsize=20)\n",
    "plt.ylabel('Active cases',fontsize=20)\n",
    "plt.title('Active cases over time (Top 5 Countries)',fontsize=30)\n",
    "plt.show()"
   ]
  },
  {
   "cell_type": "code",
   "execution_count": null,
   "id": "fdd0e58c-3962-46e1-a96f-25c8203ea681",
   "metadata": {},
   "outputs": [],
   "source": [
    "# Recovered cases trend in top 5 countries\n",
    "plt.figure(figsize=(40,10))\n",
    "plt.plot(brazil.index,brazil.confirmed,color=\"Blue\")\n",
    "plt.plot(us.index,us.confirmed,color=\"Pink\")\n",
    "plt.plot(Russia.index,Russia.confirmed,color=\"Green\")\n",
    "plt.plot(uk.index,uk.confirmed,color=\"black\")\n",
    "plt.plot(india.index,india.confirmed,color=\"Red\")\n",
    "plt.xlabel('No.of days',fontsize=20)\n",
    "plt.ylabel('Recovered cases',fontsize=20)\n",
    "plt.title('Recovered cases over time (Top 5 Countries)',fontsize=30)\n",
    "plt.show()"
   ]
  },
  {
   "cell_type": "code",
   "execution_count": null,
   "id": "79c2c607-9bb9-4f9a-ae94-72f753d8d2ab",
   "metadata": {},
   "outputs": [],
   "source": [
    "data = pd.read_csv(r\"C:\\Users\\ABHI RAI\\Desktop\\Project_30_Dec\\Capstone Project (Covid 19)\\covid_19_clean_complete.csv\")\n",
    "data.head()"
   ]
  },
  {
   "cell_type": "code",
   "execution_count": null,
   "id": "3422ad87-e9b5-4aa5-8cd9-27e4f13fe782",
   "metadata": {},
   "outputs": [],
   "source": [
    "# Convert 'date' column to datetime format\n",
    "data['Date'] = pd.to_datetime(data['Date'])"
   ]
  },
  {
   "cell_type": "code",
   "execution_count": null,
   "id": "5729a96c-730c-43cb-b0e9-984242ca145a",
   "metadata": {},
   "outputs": [],
   "source": [
    "# Sort data by date\n",
    "data = data.sort_values(by='Date')"
   ]
  },
  {
   "cell_type": "code",
   "execution_count": null,
   "id": "cc3fad7e-4fc0-49e1-ba3a-edd23693f4b8",
   "metadata": {},
   "outputs": [],
   "source": [
    "# Calculate daily new infections and recoveries\n",
    "data['new_infections'] = data['Confirmed'].diff().fillna(0)\n",
    "data['new_recoveries'] = data['Confirmed'].diff().fillna(0)"
   ]
  },
  {
   "cell_type": "code",
   "execution_count": null,
   "id": "b3210fb9-284f-4111-891b-022f580eed4e",
   "metadata": {},
   "outputs": [],
   "source": [
    "# Plot cumulative cases\n",
    "fig1 = px.line(data, x='Date', y=['Confirmed', 'Recovered'], \n",
    "               labels={'value': 'Number of Cases', 'date': 'Date'}, \n",
    "               title='Cumulative COVID-19 Cases')\n",
    "fig1.update_layout(legend_title_text='Metric')\n",
    "fig1.show()"
   ]
  },
  {
   "cell_type": "code",
   "execution_count": null,
   "id": "58d5e015-0927-4882-b314-3bba5688b3bb",
   "metadata": {},
   "outputs": [],
   "source": [
    "# Plot daily cases\n",
    "fig2 = px.bar(data, x='Date', y=['Confirmed', 'Recovered'], \n",
    "              labels={'value': 'Number of Cases', 'date': 'Date'}, \n",
    "              title='Daily New Cases and Recoveries')\n",
    "fig2.update_layout(legend_title_text='Metric', barmode='group')\n",
    "fig2.show()"
   ]
  },
  {
   "cell_type": "code",
   "execution_count": null,
   "id": "e75d941c-31b5-40bb-a7af-836507ff1046",
   "metadata": {},
   "outputs": [],
   "source": [
    "# Trend Analysis and Prediction\n",
    "# Prepare data for linear regression\n",
    "data['days_since_start'] = (data['Date'] - data['Date'].min()).dt.days\n",
    "X = data[['days_since_start']]\n",
    "y_confirmed = data['Confirmed']\n",
    "y_recovered = data['Recovered']"
   ]
  },
  {
   "cell_type": "code",
   "execution_count": null,
   "id": "53b4f9d9-9f22-412e-bca4-a42d74431555",
   "metadata": {},
   "outputs": [],
   "source": [
    "# Linear regression models\n",
    "model_confirmed = LinearRegression()\n",
    "model_recovered = LinearRegression()\n",
    "\n",
    "model_confirmed.fit(X, y_confirmed)\n",
    "model_recovered.fit(X, y_recovered)"
   ]
  },
  {
   "cell_type": "code",
   "execution_count": null,
   "id": "e7f03fd4-0f67-4cff-b35a-b06396de9baf",
   "metadata": {},
   "outputs": [],
   "source": [
    "# Predict the number of cases for the next 7 days\n",
    "future_dates = pd.date_range(start=data['Date'].max() + timedelta(days=1), \n",
    "                             periods=7)\n",
    "future_days_since_start = (future_dates - data['Date'].min()).days\n",
    "\n",
    "future_confirmed = model_confirmed.predict(future_days_since_start.values.reshape(-1, 1))\n",
    "future_recovered = model_recovered.predict(future_days_since_start.values.reshape(-1, 1))"
   ]
  },
  {
   "cell_type": "code",
   "execution_count": null,
   "id": "c8600204-3840-450f-9b77-d2220c9e9303",
   "metadata": {},
   "outputs": [],
   "source": [
    "# Combine predictions into a DataFrame\n",
    "predictions = pd.DataFrame({\n",
    "    'date': future_dates,\n",
    "    'predicted_confirmed': future_confirmed,\n",
    "    'predicted_recovered': future_recovered\n",
    "})"
   ]
  },
  {
   "cell_type": "code",
   "execution_count": null,
   "id": "1a5e4b7c-3818-4460-9d0b-daec9f59cb42",
   "metadata": {},
   "outputs": [],
   "source": [
    "print(data.columns)"
   ]
  },
  {
   "cell_type": "code",
   "execution_count": null,
   "id": "2211e6ed-9415-4d2a-8998-ffab27a18908",
   "metadata": {},
   "outputs": [],
   "source": [
    "data.columns = data.columns.str.strip()"
   ]
  },
  {
   "cell_type": "code",
   "execution_count": null,
   "id": "e19f3bff-051f-4b06-8178-f916544a54c6",
   "metadata": {},
   "outputs": [],
   "source": [
    "# Inspect column names and the first few rows of the dataset\n",
    "print(\"Column Names:\", data.columns)\n",
    "print(data.head())"
   ]
  },
  {
   "cell_type": "code",
   "execution_count": null,
   "id": "50b1063c-2ab9-443e-a9ec-3a018d0dcf20",
   "metadata": {},
   "outputs": [],
   "source": [
    "data['date'] = pd.to_datetime(data['Date'])"
   ]
  },
  {
   "cell_type": "code",
   "execution_count": null,
   "id": "95f6612b-b616-495f-b3c0-04c544ebf765",
   "metadata": {},
   "outputs": [],
   "source": [
    "# Plot predictions\n",
    "fig3 = go.Figure()\n",
    "fig3.add_trace(go.Scatter(x=data['date'], y=data['Confirmed'], mode='lines', name='Actual Confirmed Cases'))\n",
    "fig3.add_trace(go.Scatter(x=predictions['date'], y=predictions['predicted_confirmed'], mode='lines', name='Predicted Confirmed Cases', line=dict(dash='dot')))\n",
    "fig3.add_trace(go.Scatter(x=data['date'], y=data['Recovered'], mode='lines', name='Actual Recovered Cases'))\n",
    "fig3.add_trace(go.Scatter(x=predictions['date'], y=predictions['predicted_recovered'], mode='lines', name='Predicted Recovered Cases', line=dict(dash='dot')))\n",
    "\n",
    "fig3.update_layout(title='COVID-19 Cases: Actual vs Predicted',\n",
    "                   xaxis_title='Date', yaxis_title='Number of Cases')\n",
    "fig3.show()"
   ]
  },
  {
   "cell_type": "code",
   "execution_count": null,
   "id": "cf00176f-056d-4671-95af-398171b8ca87",
   "metadata": {},
   "outputs": [],
   "source": [
    "fbp = pd.read_csv(r\"C:\\Users\\ABHI RAI\\Desktop\\Project_30_Dec\\Capstone Project (Covid 19)\\covid_19_clean_complete.csv\")\n",
    "fbp.head()"
   ]
  },
  {
   "cell_type": "code",
   "execution_count": null,
   "id": "57d17f73-e2be-48d4-87db-26df6741164e",
   "metadata": {},
   "outputs": [],
   "source": [
    "# To check how many total active cases are there\n",
    "\n",
    "fbp[\"Active\"].sum()"
   ]
  },
  {
   "cell_type": "code",
   "execution_count": null,
   "id": "8cb7b72c-776f-433e-bbc1-a2b11369b9ec",
   "metadata": {},
   "outputs": [],
   "source": [
    "fbp['Confirmed'].sum()"
   ]
  },
  {
   "cell_type": "code",
   "execution_count": null,
   "id": "a8661c45-43a8-49da-a036-938371b4d325",
   "metadata": {},
   "outputs": [],
   "source": [
    "confirmed = fbp.groupby(\"Date\").sum()[\"Confirmed\"].reset_index()\n",
    "confirmed"
   ]
  },
  {
   "cell_type": "code",
   "execution_count": null,
   "id": "188a141d-2f16-4a97-97d7-e45d1d8b77e9",
   "metadata": {},
   "outputs": [],
   "source": [
    "confirmed.sum()"
   ]
  },
  {
   "cell_type": "code",
   "execution_count": null,
   "id": "3e1e96c6-78c5-462b-a379-886c9f26f98f",
   "metadata": {},
   "outputs": [],
   "source": [
    "deaths = fbp.groupby(\"Date\").sum()[\"Deaths\"].reset_index()\n",
    "deaths"
   ]
  },
  {
   "cell_type": "code",
   "execution_count": null,
   "id": "0a709b9e-85d6-4c55-b4ee-5efc5478e8bf",
   "metadata": {},
   "outputs": [],
   "source": [
    "recovered = fbp.groupby(\"Date\").sum()[\"Recovered\"].reset_index()\n",
    "recovered"
   ]
  },
  {
   "cell_type": "code",
   "execution_count": null,
   "id": "ba2c9239-e2ce-451a-91e3-ce6ee0659e13",
   "metadata": {},
   "outputs": [],
   "source": [
    "# For building a forecasting model using FB prophet library\n",
    "# there should be only 2 columns passed\n",
    "# the column names should always be ---> 'ds','y'\n",
    "\n",
    "confirmed.columns = [\"ds\", \"y\"]  #ds ---> date stamp, y ----> target\n",
    "confirmed[\"ds\"] = pd.to_datetime(confirmed['ds'])\n",
    "confirmed.tail()"
   ]
  },
  {
   "cell_type": "code",
   "execution_count": null,
   "id": "b3ba462b-6081-402b-9c9f-3b320553f7ae",
   "metadata": {},
   "outputs": [],
   "source": [
    "deaths.columns=['ds','y']\n",
    "deaths['ds']=pd.to_datetime(deaths['ds'])\n",
    "deaths.tail()"
   ]
  },
  {
   "cell_type": "code",
   "execution_count": null,
   "id": "91da6a4e-a770-485e-a761-052819109517",
   "metadata": {},
   "outputs": [],
   "source": [
    "recovered.columns=['ds','y']\n",
    "recovered['ds']=pd.to_datetime(recovered['ds'])\n",
    "recovered.tail()"
   ]
  },
  {
   "cell_type": "markdown",
   "id": "165dbae3-8087-4599-95a3-8bb4aa030791",
   "metadata": {},
   "source": [
    "## Forecasting confirmed cases:"
   ]
  },
  {
   "cell_type": "code",
   "execution_count": null,
   "id": "67c665fd-329b-438f-9f31-d8542b45a8eb",
   "metadata": {},
   "outputs": [],
   "source": [
    "# Eg: import sklear-----\n",
    "# ld = LinearRegression()\n",
    "\n",
    "m = Prophet()\n",
    "m.fit(confirmed)"
   ]
  },
  {
   "cell_type": "code",
   "execution_count": null,
   "id": "b527face-872a-4303-a76e-1d3bcf03ded6",
   "metadata": {},
   "outputs": [],
   "source": [
    "future = m.make_future_dataframe(periods = 30) #this will forecast the data for next 30 days\n",
    "future"
   ]
  },
  {
   "cell_type": "code",
   "execution_count": null,
   "id": "4e3c287b-8ab6-40d5-8530-c82b1545240b",
   "metadata": {},
   "outputs": [],
   "source": [
    "future.tail(10)"
   ]
  },
  {
   "cell_type": "code",
   "execution_count": null,
   "id": "ef082050-12d0-40c8-83bb-5b1b10c1027e",
   "metadata": {},
   "outputs": [],
   "source": [
    "forecast = m.predict(future)\n",
    "forecast[[\"ds\",\"yhat\",\"yhat_lower\",\"yhat_upper\"]].tail()"
   ]
  },
  {
   "cell_type": "code",
   "execution_count": null,
   "id": "0320f231-b974-411b-983b-b57932d810c7",
   "metadata": {},
   "outputs": [],
   "source": [
    "confirmed_forecasting_plot=m.plot(forecast)"
   ]
  },
  {
   "cell_type": "code",
   "execution_count": null,
   "id": "358b49c1-c726-4d84-857a-b952a4bb5423",
   "metadata": {},
   "outputs": [],
   "source": [
    "confirmed_forecasting_plot1=m.plot_components(forecast)"
   ]
  },
  {
   "cell_type": "markdown",
   "id": "0e09077d-ef15-48ce-a230-4094b142b91b",
   "metadata": {},
   "source": [
    "# Thank You"
   ]
  },
  {
   "cell_type": "code",
   "execution_count": null,
   "id": "764ca89b-bd3d-4660-92c1-15e1b59402df",
   "metadata": {},
   "outputs": [],
   "source": []
  }
 ],
 "metadata": {
  "kernelspec": {
   "display_name": "Python 3 (ipykernel)",
   "language": "python",
   "name": "python3"
  },
  "language_info": {
   "codemirror_mode": {
    "name": "ipython",
    "version": 3
   },
   "file_extension": ".py",
   "mimetype": "text/x-python",
   "name": "python",
   "nbconvert_exporter": "python",
   "pygments_lexer": "ipython3",
   "version": "3.11.7"
  }
 },
 "nbformat": 4,
 "nbformat_minor": 5
}
